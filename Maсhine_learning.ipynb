{
  "nbformat": 4,
  "nbformat_minor": 0,
  "metadata": {
    "colab": {
      "provenance": [],
      "gpuType": "T4"
    },
    "kernelspec": {
      "name": "python3",
      "display_name": "Python 3"
    },
    "language_info": {
      "name": "python"
    },
    "accelerator": "GPU"
  },
  "cells": [
    {
      "cell_type": "code",
      "execution_count": 1,
      "metadata": {
        "id": "8XhsJa85jtJY"
      },
      "outputs": [],
      "source": [
        "import tensorflow as tf\n",
        "import tensorflow_datasets as tfds\n",
        "from tensorflow.keras.applications import ResNet50\n",
        "from tensorflow.keras import layers, models\n",
        "from tensorflow.keras import mixed_precision\n",
        "from tensorflow.keras.callbacks import ModelCheckpoint\n",
        "import numpy as np\n",
        "import os"
      ]
    },
    {
      "cell_type": "code",
      "source": [
        "print(\"TensorFlow version:\", tf.__version__)\n",
        "print(\"Num GPUs Available:\", len(tf.config.list_physical_devices('GPU')))\n",
        "mixed_precision.set_global_policy(\"mixed_float16\")"
      ],
      "metadata": {
        "colab": {
          "base_uri": "https://localhost:8080/"
        },
        "id": "2msdi_ao90Ec",
        "outputId": "9c231f72-add3-4231-f479-18a6328b1467"
      },
      "execution_count": 2,
      "outputs": [
        {
          "output_type": "stream",
          "name": "stdout",
          "text": [
            "TensorFlow version: 2.18.0\n",
            "Num GPUs Available: 1\n"
          ]
        }
      ]
    },
    {
      "cell_type": "code",
      "source": [
        "from google.colab import drive\n",
        "drive.mount('/content/drive')"
      ],
      "metadata": {
        "colab": {
          "base_uri": "https://localhost:8080/"
        },
        "id": "B4-3bgqx9uBf",
        "outputId": "9854285d-93fd-4861-95e4-ec17c48d73d0"
      },
      "execution_count": 3,
      "outputs": [
        {
          "output_type": "stream",
          "name": "stdout",
          "text": [
            "Drive already mounted at /content/drive; to attempt to forcibly remount, call drive.mount(\"/content/drive\", force_remount=True).\n"
          ]
        }
      ]
    },
    {
      "cell_type": "code",
      "source": [
        "USE_META = True\n",
        "META_CNT = 5\n",
        "\n",
        "PATH_WEIGHTS = 'drive/MyDrive/v1.weights.h5'\n",
        "\n",
        "IMG_SIZE = (224, 224)\n",
        "IMG_SHAPE = (IMG_SIZE[0], IMG_SIZE[1], 3)\n",
        "USE_FINE_TUNE = True\n",
        "FINE_TUNE_AT = -50\n",
        "BATCH_SIZE = 32\n",
        "EPOCHS = 5"
      ],
      "metadata": {
        "id": "eaw5r16EnGJm"
      },
      "execution_count": 13,
      "outputs": []
    },
    {
      "cell_type": "code",
      "source": [
        "dataset, info = tfds.load(\n",
        "    \"food101\",\n",
        "    with_info=True,\n",
        "    as_supervised=True\n",
        ")\n",
        "\n",
        "# Берем 80% от train для обучения, 20% для валидации\n",
        "train_dataset = dataset['train'].take(60700)  # ~80% от 75750\n",
        "validation_dataset = dataset['train'].skip(60700)\n",
        "\n",
        "# Оригинальный validation используем как test\n",
        "test_dataset = dataset['validation']\n",
        "\n",
        "# stat\n",
        "num_classes = info.features['label'].num_classes\n",
        "class_names = info.features['label'].names\n",
        "\n",
        "if USE_META:\n",
        "    print(f'Общее кол-во классов: {num_classes}')\n",
        "    print(f'Названия: {class_names[:META_CNT]}')\n"
      ],
      "metadata": {
        "colab": {
          "base_uri": "https://localhost:8080/"
        },
        "id": "uK7Y4C4SkRFd",
        "outputId": "fc528090-c271-43e3-a901-dab3816d5420"
      },
      "execution_count": 5,
      "outputs": [
        {
          "output_type": "stream",
          "name": "stdout",
          "text": [
            "Общее кол-во классов: 101\n",
            "Названия: ['apple_pie', 'baby_back_ribs', 'baklava', 'beef_carpaccio', 'beef_tartare']\n"
          ]
        }
      ]
    },
    {
      "cell_type": "code",
      "source": [
        "with open('drive/MyDrive/classes.txt', 'w') as f:\n",
        "    f.write(\",\".join(class_names))"
      ],
      "metadata": {
        "id": "Z6OnpjDpI-s7"
      },
      "execution_count": 6,
      "outputs": []
    },
    {
      "cell_type": "code",
      "source": [
        "def prepare_dataset(\n",
        "        dataset,\n",
        "        batch_size=BATCH_SIZE,\n",
        "        img_size=IMG_SIZE,\n",
        "        shuffle=False,\n",
        "        augment=False\n",
        "):\n",
        "    preprocess_fn = tf.keras.applications.resnet50.preprocess_input\n",
        "\n",
        "    def format_image(image, label):\n",
        "        image = tf.image.resize(image, img_size)\n",
        "        if augment:\n",
        "            image = tf.image.random_flip_left_right(image)\n",
        "            image = tf.image.random_flip_up_down(image)\n",
        "            # image = tf.image.random_brightness(image, max_delta=0.2)\n",
        "            # image = tf.image.random_contrast(image, lower=0.8, upper=1.2)\n",
        "            # image = tf.image.random_saturation(image, lower=0.8, upper=1.2)\n",
        "        image = preprocess_fn(image)\n",
        "        return image, label\n",
        "\n",
        "    ds = dataset.map(format_image, num_parallel_calls=tf.data.AUTOTUNE)\n",
        "\n",
        "    if shuffle:\n",
        "        ds = ds.shuffle(1024)\n",
        "\n",
        "    ds = ds.batch(batch_size).prefetch(tf.data.AUTOTUNE)\n",
        "    return ds"
      ],
      "metadata": {
        "id": "34EMvp0ln-fs"
      },
      "execution_count": 7,
      "outputs": []
    },
    {
      "cell_type": "code",
      "source": [
        "train_resnet = prepare_dataset(\n",
        "    dataset=train_dataset,\n",
        "    shuffle=True,\n",
        "    augment=True\n",
        ")\n",
        "\n",
        "test_resnet = prepare_dataset(\n",
        "    dataset=test_dataset\n",
        ")\n",
        "\n",
        "valid_resnet = prepare_dataset(\n",
        "    dataset=validation_dataset\n",
        ")"
      ],
      "metadata": {
        "id": "5EE66mlWu8q0"
      },
      "execution_count": 8,
      "outputs": []
    },
    {
      "cell_type": "code",
      "source": [
        "def build_resnet50(\n",
        "        num_classes,\n",
        "        input_shape=IMG_SHAPE,\n",
        "        fine_tune_at=FINE_TUNE_AT\n",
        "):\n",
        "\n",
        "    base_model = ResNet50(\n",
        "        weights = 'imagenet',\n",
        "        include_top = False,\n",
        "        input_shape = input_shape\n",
        "    )\n",
        "\n",
        "    for layer in base_model.layers:\n",
        "        layer.trainable = False\n",
        "\n",
        "    if USE_FINE_TUNE:\n",
        "        for layer in base_model.layers[fine_tune_at:]:\n",
        "            layer.trainable = True\n",
        "\n",
        "    model = models.Sequential([\n",
        "        base_model,\n",
        "        # layers.Flatten(),\n",
        "        layers.GlobalAveragePooling2D(),\n",
        "        layers.Dense(256, activation='relu'),\n",
        "        layers.Dropout(0.5),\n",
        "        layers.Dense(num_classes, activation='softmax', dtype='float32')\n",
        "    ])\n",
        "    return model\n",
        "\n",
        "model_resnet50 = build_resnet50(num_classes=num_classes)\n",
        "model_resnet50.compile(\n",
        "    optimizer='adam',\n",
        "    loss='sparse_categorical_crossentropy',\n",
        "    metrics=['accuracy']\n",
        ")\n",
        "\n",
        "if os.path.exists(PATH_WEIGHTS):\n",
        "    model_resnet50.load_weights('drive/MyDrive/v1.weights.h5')\n",
        "    print(f'Веса по пути {PATH_WEIGHTS} загружены!')\n",
        "else:\n",
        "    print(f'Не удалось найти веса по пути {PATH_WEIGHTS}. Обучаем с нуля')\n",
        "\n",
        "model_resnet50.summary()\n",
        "\n"
      ],
      "metadata": {
        "colab": {
          "base_uri": "https://localhost:8080/",
          "height": 412
        },
        "id": "u0MfvHK3ykiK",
        "outputId": "a4bf049b-ac62-4683-8636-56d1075c314b"
      },
      "execution_count": 9,
      "outputs": [
        {
          "output_type": "stream",
          "name": "stderr",
          "text": [
            "/usr/local/lib/python3.11/dist-packages/keras/src/saving/saving_lib.py:757: UserWarning: Skipping variable loading for optimizer 'loss_scale_optimizer', because it has 4 variables whereas the saved optimizer has 158 variables. \n",
            "  saveable.load_own_variables(weights_store.get(inner_path))\n"
          ]
        },
        {
          "output_type": "stream",
          "name": "stdout",
          "text": [
            "Веса по пути drive/MyDrive/v1.weights.h5 загружены!\n"
          ]
        },
        {
          "output_type": "stream",
          "name": "stderr",
          "text": [
            "/usr/local/lib/python3.11/dist-packages/keras/src/saving/saving_lib.py:757: UserWarning: Skipping variable loading for optimizer 'adam', because it has 2 variables whereas the saved optimizer has 154 variables. \n",
            "  saveable.load_own_variables(weights_store.get(inner_path))\n"
          ]
        },
        {
          "output_type": "display_data",
          "data": {
            "text/plain": [
              "\u001b[1mModel: \"sequential\"\u001b[0m\n"
            ],
            "text/html": [
              "<pre style=\"white-space:pre;overflow-x:auto;line-height:normal;font-family:Menlo,'DejaVu Sans Mono',consolas,'Courier New',monospace\"><span style=\"font-weight: bold\">Model: \"sequential\"</span>\n",
              "</pre>\n"
            ]
          },
          "metadata": {}
        },
        {
          "output_type": "display_data",
          "data": {
            "text/plain": [
              "┏━━━━━━━━━━━━━━━━━━━━━━━━━━━━━━━━━┳━━━━━━━━━━━━━━━━━━━━━━━━┳━━━━━━━━━━━━━━━┓\n",
              "┃\u001b[1m \u001b[0m\u001b[1mLayer (type)                   \u001b[0m\u001b[1m \u001b[0m┃\u001b[1m \u001b[0m\u001b[1mOutput Shape          \u001b[0m\u001b[1m \u001b[0m┃\u001b[1m \u001b[0m\u001b[1m      Param #\u001b[0m\u001b[1m \u001b[0m┃\n",
              "┡━━━━━━━━━━━━━━━━━━━━━━━━━━━━━━━━━╇━━━━━━━━━━━━━━━━━━━━━━━━╇━━━━━━━━━━━━━━━┩\n",
              "│ resnet50 (\u001b[38;5;33mFunctional\u001b[0m)           │ (\u001b[38;5;45mNone\u001b[0m, \u001b[38;5;34m7\u001b[0m, \u001b[38;5;34m7\u001b[0m, \u001b[38;5;34m2048\u001b[0m)     │    \u001b[38;5;34m23,587,712\u001b[0m │\n",
              "├─────────────────────────────────┼────────────────────────┼───────────────┤\n",
              "│ global_average_pooling2d        │ (\u001b[38;5;45mNone\u001b[0m, \u001b[38;5;34m2048\u001b[0m)           │             \u001b[38;5;34m0\u001b[0m │\n",
              "│ (\u001b[38;5;33mGlobalAveragePooling2D\u001b[0m)        │                        │               │\n",
              "├─────────────────────────────────┼────────────────────────┼───────────────┤\n",
              "│ dense (\u001b[38;5;33mDense\u001b[0m)                   │ (\u001b[38;5;45mNone\u001b[0m, \u001b[38;5;34m256\u001b[0m)            │       \u001b[38;5;34m524,544\u001b[0m │\n",
              "├─────────────────────────────────┼────────────────────────┼───────────────┤\n",
              "│ dropout (\u001b[38;5;33mDropout\u001b[0m)               │ (\u001b[38;5;45mNone\u001b[0m, \u001b[38;5;34m256\u001b[0m)            │             \u001b[38;5;34m0\u001b[0m │\n",
              "├─────────────────────────────────┼────────────────────────┼───────────────┤\n",
              "│ dense_1 (\u001b[38;5;33mDense\u001b[0m)                 │ (\u001b[38;5;45mNone\u001b[0m, \u001b[38;5;34m101\u001b[0m)            │        \u001b[38;5;34m25,957\u001b[0m │\n",
              "└─────────────────────────────────┴────────────────────────┴───────────────┘\n"
            ],
            "text/html": [
              "<pre style=\"white-space:pre;overflow-x:auto;line-height:normal;font-family:Menlo,'DejaVu Sans Mono',consolas,'Courier New',monospace\">┏━━━━━━━━━━━━━━━━━━━━━━━━━━━━━━━━━┳━━━━━━━━━━━━━━━━━━━━━━━━┳━━━━━━━━━━━━━━━┓\n",
              "┃<span style=\"font-weight: bold\"> Layer (type)                    </span>┃<span style=\"font-weight: bold\"> Output Shape           </span>┃<span style=\"font-weight: bold\">       Param # </span>┃\n",
              "┡━━━━━━━━━━━━━━━━━━━━━━━━━━━━━━━━━╇━━━━━━━━━━━━━━━━━━━━━━━━╇━━━━━━━━━━━━━━━┩\n",
              "│ resnet50 (<span style=\"color: #0087ff; text-decoration-color: #0087ff\">Functional</span>)           │ (<span style=\"color: #00d7ff; text-decoration-color: #00d7ff\">None</span>, <span style=\"color: #00af00; text-decoration-color: #00af00\">7</span>, <span style=\"color: #00af00; text-decoration-color: #00af00\">7</span>, <span style=\"color: #00af00; text-decoration-color: #00af00\">2048</span>)     │    <span style=\"color: #00af00; text-decoration-color: #00af00\">23,587,712</span> │\n",
              "├─────────────────────────────────┼────────────────────────┼───────────────┤\n",
              "│ global_average_pooling2d        │ (<span style=\"color: #00d7ff; text-decoration-color: #00d7ff\">None</span>, <span style=\"color: #00af00; text-decoration-color: #00af00\">2048</span>)           │             <span style=\"color: #00af00; text-decoration-color: #00af00\">0</span> │\n",
              "│ (<span style=\"color: #0087ff; text-decoration-color: #0087ff\">GlobalAveragePooling2D</span>)        │                        │               │\n",
              "├─────────────────────────────────┼────────────────────────┼───────────────┤\n",
              "│ dense (<span style=\"color: #0087ff; text-decoration-color: #0087ff\">Dense</span>)                   │ (<span style=\"color: #00d7ff; text-decoration-color: #00d7ff\">None</span>, <span style=\"color: #00af00; text-decoration-color: #00af00\">256</span>)            │       <span style=\"color: #00af00; text-decoration-color: #00af00\">524,544</span> │\n",
              "├─────────────────────────────────┼────────────────────────┼───────────────┤\n",
              "│ dropout (<span style=\"color: #0087ff; text-decoration-color: #0087ff\">Dropout</span>)               │ (<span style=\"color: #00d7ff; text-decoration-color: #00d7ff\">None</span>, <span style=\"color: #00af00; text-decoration-color: #00af00\">256</span>)            │             <span style=\"color: #00af00; text-decoration-color: #00af00\">0</span> │\n",
              "├─────────────────────────────────┼────────────────────────┼───────────────┤\n",
              "│ dense_1 (<span style=\"color: #0087ff; text-decoration-color: #0087ff\">Dense</span>)                 │ (<span style=\"color: #00d7ff; text-decoration-color: #00d7ff\">None</span>, <span style=\"color: #00af00; text-decoration-color: #00af00\">101</span>)            │        <span style=\"color: #00af00; text-decoration-color: #00af00\">25,957</span> │\n",
              "└─────────────────────────────────┴────────────────────────┴───────────────┘\n",
              "</pre>\n"
            ]
          },
          "metadata": {}
        },
        {
          "output_type": "display_data",
          "data": {
            "text/plain": [
              "\u001b[1m Total params: \u001b[0m\u001b[38;5;34m24,138,213\u001b[0m (92.08 MB)\n"
            ],
            "text/html": [
              "<pre style=\"white-space:pre;overflow-x:auto;line-height:normal;font-family:Menlo,'DejaVu Sans Mono',consolas,'Courier New',monospace\"><span style=\"font-weight: bold\"> Total params: </span><span style=\"color: #00af00; text-decoration-color: #00af00\">24,138,213</span> (92.08 MB)\n",
              "</pre>\n"
            ]
          },
          "metadata": {}
        },
        {
          "output_type": "display_data",
          "data": {
            "text/plain": [
              "\u001b[1m Trainable params: \u001b[0m\u001b[38;5;34m17,501,029\u001b[0m (66.76 MB)\n"
            ],
            "text/html": [
              "<pre style=\"white-space:pre;overflow-x:auto;line-height:normal;font-family:Menlo,'DejaVu Sans Mono',consolas,'Courier New',monospace\"><span style=\"font-weight: bold\"> Trainable params: </span><span style=\"color: #00af00; text-decoration-color: #00af00\">17,501,029</span> (66.76 MB)\n",
              "</pre>\n"
            ]
          },
          "metadata": {}
        },
        {
          "output_type": "display_data",
          "data": {
            "text/plain": [
              "\u001b[1m Non-trainable params: \u001b[0m\u001b[38;5;34m6,637,184\u001b[0m (25.32 MB)\n"
            ],
            "text/html": [
              "<pre style=\"white-space:pre;overflow-x:auto;line-height:normal;font-family:Menlo,'DejaVu Sans Mono',consolas,'Courier New',monospace\"><span style=\"font-weight: bold\"> Non-trainable params: </span><span style=\"color: #00af00; text-decoration-color: #00af00\">6,637,184</span> (25.32 MB)\n",
              "</pre>\n"
            ]
          },
          "metadata": {}
        }
      ]
    },
    {
      "cell_type": "code",
      "source": [
        "model_checkpoint = ModelCheckpoint(\n",
        "    filepath=PATH_WEIGHTS,\n",
        "    monitor='val_loss',\n",
        "    save_weights_only=True,\n",
        "    verbose=1\n",
        ")"
      ],
      "metadata": {
        "id": "IYKQofnQ_Et4"
      },
      "execution_count": 10,
      "outputs": []
    },
    {
      "cell_type": "code",
      "source": [
        "history_resnet50 = model_resnet50.fit(\n",
        "    train_resnet,\n",
        "    validation_data=valid_resnet,\n",
        "    epochs=EPOCHS,\n",
        "    callbacks=[model_checkpoint]\n",
        ")"
      ],
      "metadata": {
        "colab": {
          "base_uri": "https://localhost:8080/"
        },
        "id": "WcN3abd00f1I",
        "outputId": "4c0a929d-ea0e-43f4-9142-28a6d1c7d196"
      },
      "execution_count": 14,
      "outputs": [
        {
          "output_type": "stream",
          "name": "stdout",
          "text": [
            "Epoch 1/5\n",
            "\u001b[1m1897/1897\u001b[0m \u001b[32m━━━━━━━━━━━━━━━━━━━━\u001b[0m\u001b[37m\u001b[0m \u001b[1m0s\u001b[0m 116ms/step - accuracy: 0.8761 - loss: 0.4270\n",
            "Epoch 1: saving model to drive/MyDrive/v1.weights.h5\n",
            "\u001b[1m1897/1897\u001b[0m \u001b[32m━━━━━━━━━━━━━━━━━━━━\u001b[0m\u001b[37m\u001b[0m \u001b[1m382s\u001b[0m 199ms/step - accuracy: 0.8761 - loss: 0.4270 - val_accuracy: 0.6955 - val_loss: 1.4931\n",
            "Epoch 2/5\n",
            "\u001b[1m1897/1897\u001b[0m \u001b[32m━━━━━━━━━━━━━━━━━━━━\u001b[0m\u001b[37m\u001b[0m \u001b[1m0s\u001b[0m 120ms/step - accuracy: 0.8856 - loss: 0.3850\n",
            "Epoch 2: saving model to drive/MyDrive/v1.weights.h5\n",
            "\u001b[1m1897/1897\u001b[0m \u001b[32m━━━━━━━━━━━━━━━━━━━━\u001b[0m\u001b[37m\u001b[0m \u001b[1m390s\u001b[0m 203ms/step - accuracy: 0.8856 - loss: 0.3850 - val_accuracy: 0.6950 - val_loss: 1.5417\n",
            "Epoch 3/5\n",
            "\u001b[1m1897/1897\u001b[0m \u001b[32m━━━━━━━━━━━━━━━━━━━━\u001b[0m\u001b[37m\u001b[0m \u001b[1m0s\u001b[0m 119ms/step - accuracy: 0.8954 - loss: 0.3522\n",
            "Epoch 3: saving model to drive/MyDrive/v1.weights.h5\n",
            "\u001b[1m1897/1897\u001b[0m \u001b[32m━━━━━━━━━━━━━━━━━━━━\u001b[0m\u001b[37m\u001b[0m \u001b[1m400s\u001b[0m 208ms/step - accuracy: 0.8954 - loss: 0.3522 - val_accuracy: 0.6891 - val_loss: 1.6116\n",
            "Epoch 4/5\n",
            "\u001b[1m1897/1897\u001b[0m \u001b[32m━━━━━━━━━━━━━━━━━━━━\u001b[0m\u001b[37m\u001b[0m \u001b[1m0s\u001b[0m 120ms/step - accuracy: 0.9032 - loss: 0.3247\n",
            "Epoch 4: saving model to drive/MyDrive/v1.weights.h5\n",
            "\u001b[1m1897/1897\u001b[0m \u001b[32m━━━━━━━━━━━━━━━━━━━━\u001b[0m\u001b[37m\u001b[0m \u001b[1m406s\u001b[0m 211ms/step - accuracy: 0.9032 - loss: 0.3247 - val_accuracy: 0.6927 - val_loss: 1.6893\n",
            "Epoch 5/5\n",
            "\u001b[1m1897/1897\u001b[0m \u001b[32m━━━━━━━━━━━━━━━━━━━━\u001b[0m\u001b[37m\u001b[0m \u001b[1m0s\u001b[0m 122ms/step - accuracy: 0.9103 - loss: 0.3020\n",
            "Epoch 5: saving model to drive/MyDrive/v1.weights.h5\n",
            "\u001b[1m1897/1897\u001b[0m \u001b[32m━━━━━━━━━━━━━━━━━━━━\u001b[0m\u001b[37m\u001b[0m \u001b[1m407s\u001b[0m 212ms/step - accuracy: 0.9103 - loss: 0.3020 - val_accuracy: 0.6914 - val_loss: 1.6454\n"
          ]
        }
      ]
    },
    {
      "cell_type": "code",
      "source": [
        "test_loss, test_acc = model_resnet50.evaluate(test_resnet)\n",
        "print(f'Тестовая точность {test_acc:.4f}\\nОшибки {test_loss:.4f}')"
      ],
      "metadata": {
        "id": "c93RB0un19gM",
        "colab": {
          "base_uri": "https://localhost:8080/"
        },
        "outputId": "be390a31-1891-4df4-898a-2ba6f603a067"
      },
      "execution_count": 15,
      "outputs": [
        {
          "output_type": "stream",
          "name": "stdout",
          "text": [
            "\u001b[1m790/790\u001b[0m \u001b[32m━━━━━━━━━━━━━━━━━━━━\u001b[0m\u001b[37m\u001b[0m \u001b[1m85s\u001b[0m 107ms/step - accuracy: 0.7499 - loss: 1.2037\n",
            "Тестовая точность 0.7474\n",
            "Ошибки 1.2196\n"
          ]
        }
      ]
    }
  ]
}